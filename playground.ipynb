{
 "cells": [
  {
   "cell_type": "code",
   "execution_count": 16,
   "metadata": {},
   "outputs": [],
   "source": [
    "import openai\n",
    "\n",
    "def create_body_language_prompt():\n",
    "    return \"\"\"\n",
    "    You are an expert in public speeches and what body language conveys. Look at the image, and do something turbo simple, if the person has its hands in their pockets, point it out, otherwise say everything is fine. If there is no person in the image, say nothing.\n",
    "    \"\"\"\n",
    "\n",
    "def encode_image(image_path):\n",
    "    with open(image_path, \"rb\") as image_file:\n",
    "        return base64.b64encode(image_file.read()).decode(\"utf-8\")\n",
    "\n",
    "def get_body_language_evaluation(frames_path: str, interval: int):\n",
    "    client = openai.OpenAI()\n",
    "    body_language = {}\n",
    "    frame_files = sorted(\n",
    "        [f for f in os.listdir(frames_path) if f.endswith((\"png\", \"jpg\", \"jpeg\"))]\n",
    "    )\n",
    "    for i, frame in enumerate(frame_files):\n",
    "        timestamp = i * interval\n",
    "        base64_image = encode_image(frame)\n",
    "        response = client.chat.completions.create(\n",
    "            model=\"gpt-4o\",\n",
    "            messages=[\n",
    "                {\"role\": \"system\", \"content\": create_body_language_prompt()},\n",
    "                {\n",
    "                    \"role\": \"user\",\n",
    "                    \"content\": [\n",
    "                        {\n",
    "                            \"type\": \"text\",\n",
    "                            \"text\": \"Briefly comment on the body language. One liner.\",\n",
    "                        },\n",
    "                        {\n",
    "                            \"type\": \"image_url\",\n",
    "                            \"image_url\": {\n",
    "                                \"url\": f\"data:image/jpeg;base64,{base64_image}\"\n",
    "                            },\n",
    "                        },\n",
    "                    ],\n",
    "                },\n",
    "            ],\n",
    "        )\n",
    "\n",
    "        body_language[timestamp] = response.choices[0].message.content\n",
    "\n",
    "    return body_language"
   ]
  }
 ],
 "metadata": {
  "language_info": {
   "name": "python"
  }
 },
 "nbformat": 4,
 "nbformat_minor": 2
}
